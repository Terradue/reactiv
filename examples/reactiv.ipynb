{
 "cells": [
  {
   "cell_type": "markdown",
   "metadata": {},
   "source": [
    "## REACTIV example"
   ]
  },
  {
   "cell_type": "markdown",
   "metadata": {},
   "source": [
    "### Dataset for the example\n",
    "\n",
    "Get the dataset from https://github.com/elisekoeniguer/REACTIV/tree/master/REACTIV/Datasets"
   ]
  },
  {
   "cell_type": "code",
   "execution_count": 1,
   "metadata": {},
   "outputs": [],
   "source": [
    "import glob \n",
    "from skimage import io\n",
    "import numpy as np\n",
    "import gdal \n",
    "from reactiv import *\n",
    "import datetime\n",
    "import os\n",
    "%load_ext autoreload\n",
    "%autoreload 2"
   ]
  },
  {
   "cell_type": "code",
   "execution_count": 6,
   "metadata": {},
   "outputs": [],
   "source": [
    "l = glob.glob('/workspace/REACTIV/REACTIV/Datasets//*VH_amplitude.tif') "
   ]
  },
  {
   "cell_type": "code",
   "execution_count": 7,
   "metadata": {},
   "outputs": [
    {
     "data": {
      "text/plain": [
       "['/workspace/REACTIV/REACTIV/Datasets/20150323_IW1_VH_amplitude.tif',\n",
       " '/workspace/REACTIV/REACTIV/Datasets/20160105_IW1_VH_amplitude.tif',\n",
       " '/workspace/REACTIV/REACTIV/Datasets/20151224_IW1_VH_amplitude.tif',\n",
       " '/workspace/REACTIV/REACTIV/Datasets/20160210_IW1_VH_amplitude.tif',\n",
       " '/workspace/REACTIV/REACTIV/Datasets/20160305_IW1_VH_amplitude.tif',\n",
       " '/workspace/REACTIV/REACTIV/Datasets/20150721_IW1_VH_amplitude.tif',\n",
       " '/workspace/REACTIV/REACTIV/Datasets/20150428_IW1_VH_amplitude.tif',\n",
       " '/workspace/REACTIV/REACTIV/Datasets/20160329_IW1_VH_amplitude.tif',\n",
       " '/workspace/REACTIV/REACTIV/Datasets/20150416_IW1_VH_amplitude.tif',\n",
       " '/workspace/REACTIV/REACTIV/Datasets/20160129_IW1_VH_amplitude.tif',\n",
       " '/workspace/REACTIV/REACTIV/Datasets/20160317_IW1_VH_amplitude.tif',\n",
       " '/workspace/REACTIV/REACTIV/Datasets/20151212_IW1_VH_amplitude.tif',\n",
       " '/workspace/REACTIV/REACTIV/Datasets/20150404_IW1_VH_amplitude.tif',\n",
       " '/workspace/REACTIV/REACTIV/Datasets/20150627_IW1_VH_amplitude.tif',\n",
       " '/workspace/REACTIV/REACTIV/Datasets/20160117_IW1_VH_amplitude.tif',\n",
       " '/workspace/REACTIV/REACTIV/Datasets/20150227_IW1_VH_amplitude.tif']"
      ]
     },
     "execution_count": 7,
     "metadata": {},
     "output_type": "execute_result"
    }
   ],
   "source": [
    "l"
   ]
  },
  {
   "cell_type": "markdown",
   "metadata": {},
   "source": [
    "Create a numpy stack with the dataset"
   ]
  },
  {
   "cell_type": "code",
   "execution_count": 8,
   "metadata": {},
   "outputs": [],
   "source": [
    "im=io.imread(l[0])\n",
    "nx=im.shape[0]\n",
    "ny=im.shape[1]\n",
    "\n",
    "my_stack = []\n",
    "\n",
    "for i in l:\n",
    "    my_stack.append(io.imread(i))"
   ]
  },
  {
   "cell_type": "code",
   "execution_count": 4,
   "metadata": {},
   "outputs": [
    {
     "data": {
      "text/plain": [
       "array([[  3.67375493e-01,   2.77353197e-01,   2.12059900e-01, ...,\n",
       "          2.20561619e+01,   9.90622234e+00,   8.00498295e+00],\n",
       "       [  2.17653465e+00,   1.27446938e+00,   8.16548586e-01, ...,\n",
       "          3.15866280e+01,   4.32818108e+01,   3.40026970e+01],\n",
       "       [  5.67372847e+00,   4.34832811e+00,   3.23996425e+00, ...,\n",
       "          6.69767532e+01,   1.51723953e+02,   1.58831268e+02],\n",
       "       ..., \n",
       "       [  1.12617695e+00,   1.25495207e+00,   1.05415249e+00, ...,\n",
       "          1.08297195e+02,   6.99669952e+01,   6.24757118e+01],\n",
       "       [  1.32070923e+00,   9.38759565e-01,   7.44275630e-01, ...,\n",
       "          1.11019325e+02,   6.34804955e+01,   3.25577240e+01],\n",
       "       [  3.33532363e-01,   1.26941621e-01,   1.69315591e-01, ...,\n",
       "          5.44859123e+01,   4.16544685e+01,   1.46829481e+01]], dtype=float32)"
      ]
     },
     "execution_count": 4,
     "metadata": {},
     "output_type": "execute_result"
    }
   ],
   "source": [
    "np.stack(my_stack)[2,:,:]"
   ]
  },
  {
   "cell_type": "markdown",
   "metadata": {},
   "source": [
    "Create the date vector"
   ]
  },
  {
   "cell_type": "code",
   "execution_count": 11,
   "metadata": {},
   "outputs": [],
   "source": [
    "# Compute the date vector\n",
    "datenum=[]\n",
    "for i in range(0, len(l)):\n",
    "   \n",
    "    (filepath, filename) = os.path.split(l[i])\n",
    "    year=(int(filename[0:4]))\n",
    "    month=(int(filename[4:6]))\n",
    "    day=(int(filename[6:8]))\n",
    "    d1 = datetime.date(year,month,day)\n",
    "    datenum.append(d1.toordinal())\n"
   ]
  },
  {
   "cell_type": "code",
   "execution_count": 12,
   "metadata": {},
   "outputs": [
    {
     "data": {
      "text/plain": [
       "[735680,\n",
       " 735968,\n",
       " 735956,\n",
       " 736004,\n",
       " 736028,\n",
       " 735800,\n",
       " 735716,\n",
       " 736052,\n",
       " 735704,\n",
       " 735992,\n",
       " 736040,\n",
       " 735944,\n",
       " 735692,\n",
       " 735776,\n",
       " 735980,\n",
       " 735656]"
      ]
     },
     "execution_count": 12,
     "metadata": {},
     "output_type": "execute_result"
    }
   ],
   "source": [
    "datenum"
   ]
  },
  {
   "cell_type": "markdown",
   "metadata": {},
   "source": [
    "REACTIV"
   ]
  },
  {
   "cell_type": "code",
   "execution_count": 13,
   "metadata": {},
   "outputs": [
    {
     "name": "stderr",
     "output_type": "stream",
     "text": [
      "/workspace/REACTIV/REACTIV/Python/reactiv/reactiv/__init__.py:49: RuntimeWarning: divide by zero encountered in divide\n",
      "  R = (R - CV) / (alpha / np.sqrt(N)) / 10.0 + 0.25;\n",
      "/workspace/REACTIV/REACTIV/Python/reactiv/reactiv/__init__.py:50: RuntimeWarning: invalid value encountered in multiply\n",
      "  R = (R > 1) * np.ones([nx, ny]) + (R < 1) * R;   # Cast Coefficient of Varation R max to 1.\n",
      "/workspace/REACTIV/REACTIV/Python/reactiv/reactiv/__init__.py:51: RuntimeWarning: invalid value encountered in greater\n",
      "  R = (R > 0) * R;\n",
      "/workspace/REACTIV/REACTIV/Python/reactiv/reactiv/__init__.py:51: RuntimeWarning: invalid value encountered in multiply\n",
      "  R = (R > 0) * R;\n"
     ]
    }
   ],
   "source": [
    "res = reactiv(np.stack(my_stack), datenum)"
   ]
  },
  {
   "cell_type": "code",
   "execution_count": 14,
   "metadata": {},
   "outputs": [
    {
     "data": {
      "text/plain": [
       "array([[[ 0.3930367 ,         nan,         nan],\n",
       "        [ 0.14967169,         nan,         nan],\n",
       "        [        nan,  0.18797113,         nan],\n",
       "        ..., \n",
       "        [ 0.25520798,         nan,         nan],\n",
       "        [ 0.2034805 ,         nan,         nan],\n",
       "        [ 0.21406481,         nan,         nan]],\n",
       "\n",
       "       [[        nan,  0.29788162,         nan],\n",
       "        [        nan,  0.19508421,         nan],\n",
       "        [        nan,  0.37421399,         nan],\n",
       "        ..., \n",
       "        [        nan,         nan,  0.37499159],\n",
       "        [        nan,         nan,  0.54858432],\n",
       "        [ 0.37040054,         nan,         nan]],\n",
       "\n",
       "       [[ 0.38219665,         nan,         nan],\n",
       "        [        nan,  0.20875318,         nan],\n",
       "        [ 0.36218155,         nan,         nan],\n",
       "        ..., \n",
       "        [        nan,         nan,  0.60583923],\n",
       "        [ 0.90617276,         nan,         nan],\n",
       "        [        nan,         nan,  0.61931733]],\n",
       "\n",
       "       ..., \n",
       "       [[ 0.31493456,         nan,         nan],\n",
       "        [ 0.25513159,         nan,         nan],\n",
       "        [        nan,  0.36706768,         nan],\n",
       "        ..., \n",
       "        [ 0.7163221 ,         nan,         nan],\n",
       "        [ 0.7285839 ,         nan,         nan],\n",
       "        [ 0.39370283,         nan,         nan]],\n",
       "\n",
       "       [[ 0.35629063,         nan,         nan],\n",
       "        [ 0.20167831,         nan,         nan],\n",
       "        [ 0.26751152,         nan,         nan],\n",
       "        ..., \n",
       "        [ 0.64431358,         nan,         nan],\n",
       "        [ 0.55787363,         nan,         nan],\n",
       "        [ 0.28549333,         nan,         nan]],\n",
       "\n",
       "       [[ 0.36532116,         nan,         nan],\n",
       "        [        nan,  0.35442331,         nan],\n",
       "        [        nan,  0.26168905,         nan],\n",
       "        ..., \n",
       "        [        nan,         nan,  0.43006738],\n",
       "        [        nan,         nan,  0.44847379],\n",
       "        [ 0.30845798,         nan,         nan]]])"
      ]
     },
     "execution_count": 14,
     "metadata": {},
     "output_type": "execute_result"
    }
   ],
   "source": [
    "res"
   ]
  },
  {
   "cell_type": "markdown",
   "metadata": {},
   "source": [
    "Save result"
   ]
  },
  {
   "cell_type": "code",
   "execution_count": 16,
   "metadata": {},
   "outputs": [],
   "source": [
    "outfile = 'reactiv.tif'\n",
    "\n",
    "driver = gdal.GetDriverByName('GTiff')\n",
    "\n",
    "outdata = driver.Create(outfile, \n",
    "                        res.shape[1], \n",
    "                        res.shape[0], \n",
    "                        3,\n",
    "                        gdal.GDT_Byte) \n",
    "\n",
    "\n",
    "\n",
    "for band_index in range(0, res.shape[2]):\n",
    "    \n",
    "    outband = outdata.GetRasterBand(band_index+1)\n",
    "   \n",
    "    outband.WriteArray(res[:,:,band_index]*255)\n",
    "\n",
    "outdata.FlushCache()"
   ]
  },
  {
   "cell_type": "code",
   "execution_count": null,
   "metadata": {},
   "outputs": [],
   "source": []
  }
 ],
 "metadata": {
  "kernelspec": {
   "display_name": "Python 2",
   "language": "python",
   "name": "python2"
  },
  "language_info": {
   "codemirror_mode": {
    "name": "ipython",
    "version": 2
   },
   "file_extension": ".py",
   "mimetype": "text/x-python",
   "name": "python",
   "nbconvert_exporter": "python",
   "pygments_lexer": "ipython2",
   "version": "2.7.13"
  }
 },
 "nbformat": 4,
 "nbformat_minor": 2
}
